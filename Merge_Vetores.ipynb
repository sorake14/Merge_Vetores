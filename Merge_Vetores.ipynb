{
  "nbformat": 4,
  "nbformat_minor": 0,
  "metadata": {
    "colab": {
      "provenance": [],
      "authorship_tag": "ABX9TyNJKlrlm3DOjzkzohqT6JqR",
      "include_colab_link": true
    },
    "kernelspec": {
      "name": "python3",
      "display_name": "Python 3"
    },
    "language_info": {
      "name": "python"
    }
  },
  "cells": [
    {
      "cell_type": "markdown",
      "metadata": {
        "id": "view-in-github",
        "colab_type": "text"
      },
      "source": [
        "<a href=\"https://colab.research.google.com/github/sorake14/Merge_Vetores/blob/main/Merge_Vetores.ipynb\" target=\"_parent\"><img src=\"https://colab.research.google.com/assets/colab-badge.svg\" alt=\"Open In Colab\"/></a>"
      ]
    },
    {
      "cell_type": "code",
      "execution_count": 13,
      "metadata": {
        "colab": {
          "base_uri": "https://localhost:8080/"
        },
        "id": "CNs7TY4E8cTB",
        "outputId": "cbf614ed-9021-4496-f12c-9903a7b003e8"
      },
      "outputs": [
        {
          "output_type": "stream",
          "name": "stdout",
          "text": [
            "[1, 2, 3, 4, 5, 6, 7, 8, 9, 10]\n"
          ]
        }
      ],
      "source": [
        "vetor1 = [1, 3, 5, 7, 9];\n",
        "vetor2 = [2, 4, 6, 8, 10];\n",
        "vetorvazio = []\n",
        "\n",
        "def merge_vetores(vetor1,vetor2,vetorvazio):\n",
        "  while(len(vetor1)!= 0 and len(vetor2)!= 0):\n",
        "    vetorvazio.append(min(vetor1));\n",
        "    vetorvazio.append(min(vetor2));\n",
        "    vetor1.remove(min(vetor1));\n",
        "    vetor2.remove(min(vetor2));\n",
        "  return vetorvazio\n",
        "\n",
        "print(merge_vetores(vetor1,vetor2,vetorvazio))"
      ]
    }
  ]
}